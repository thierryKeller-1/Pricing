{
 "cells": [
  {
   "cell_type": "code",
   "execution_count": 1,
   "metadata": {},
   "outputs": [],
   "source": [
    "data = [\n",
    "    {\n",
    "        \"url\": \"https://www.maeva.com/fr-fr/searchlist.php?map=1&acces_direct=1&station_cle=29994&etendre_min=30&trier_par=zerank\",\n",
    "        \"nb_page\": 1\n",
    "    },\n",
    "    {\n",
    "        \"url\": \"https://www.maeva.com/fr-fr/searchlist.php?map=1&acces_direct=1&station_cle=109&etendre_min=30&trier_par=zerank\",\n",
    "        \"nb_page\": 1\n",
    "    },\n",
    "    {\n",
    "        \"url\": \"https://www.maeva.com/fr-fr/searchlist.php?map=1&acces_direct=1&station_cle=304&etendre_min=30&trier_par=zerank\",\n",
    "        \"nb_page\": 1\n",
    "    },\n",
    "    {\n",
    "        \"url\": \"https://www.maeva.com/fr-fr/searchlist.php?map=1&acces_direct=1&station_cle=39&etendre_min=30&trier_par=zerank\",\n",
    "        \"nb_page\": 1\n",
    "    },\n",
    "    {\n",
    "        \"url\": \"https://www.maeva.com/fr-fr/searchlist.php?map=1&acces_direct=1&station_cle=297&etendre_min=30&trier_par=zerank\",\n",
    "        \"nb_page\": 1\n",
    "    },\n",
    "        {\n",
    "        \"url\": \"https://www.maeva.com/fr-fr/searchlist.php?map=1&acces_direct=1&station_cle=29994&etendre_min=30&trier_par=zerank\",\n",
    "        \"nb_page\": 1\n",
    "    },\n",
    "    {\n",
    "        \"url\": \"https://www.maeva.com/fr-fr/searchlist.php?map=1&acces_direct=1&station_cle=109&etendre_min=30&trier_par=zerank\",\n",
    "        \"nb_page\": 1\n",
    "    },\n",
    "    {\n",
    "        \"url\": \"https://www.maeva.com/fr-fr/searchlist.php?map=1&acces_direct=1&station_cle=304&etendre_min=30&trier_par=zerank\",\n",
    "        \"nb_page\": 1\n",
    "    },\n",
    "    {\n",
    "        \"url\": \"https://www.maeva.com/fr-fr/searchlist.php?map=1&acces_direct=1&station_cle=39&etendre_min=30&trier_par=zerank\",\n",
    "        \"nb_page\": 1\n",
    "    },\n",
    "    {\n",
    "        \"url\": \"https://www.maeva.com/fr-fr/searchlist.php?map=1&acces_direct=1&station_cle=297&etendre_min=30&trier_par=zerank\",\n",
    "        \"nb_page\": 1\n",
    "    }\n",
    "    ]"
   ]
  },
  {
   "cell_type": "code",
   "execution_count": 2,
   "metadata": {},
   "outputs": [],
   "source": [
    "def split_data(data_to_split:list, by:int) -> list:\n",
    "            \"\"\"## split a large of list of data in to small list \n",
    "\n",
    "            ### Args:\n",
    "                - `data_to_split (list)`: list of big data to b\n",
    "                - `by (int)`: number of peace of list\n",
    "\n",
    "            ### Returns:\n",
    "                - `list`: list contains splitted list of data\n",
    "            \"\"\"\n",
    "            return [data_to_split[i:i + by] for i in range(0, len(data_to_split), by)]\n",
    "        "
   ]
  },
  {
   "cell_type": "code",
   "execution_count": 3,
   "metadata": {},
   "outputs": [
    {
     "data": {
      "text/plain": [
       "[[{'url': 'https://www.maeva.com/fr-fr/searchlist.php?map=1&acces_direct=1&station_cle=29994&etendre_min=30&trier_par=zerank',\n",
       "   'nb_page': 1},\n",
       "  {'url': 'https://www.maeva.com/fr-fr/searchlist.php?map=1&acces_direct=1&station_cle=109&etendre_min=30&trier_par=zerank',\n",
       "   'nb_page': 1}],\n",
       " [{'url': 'https://www.maeva.com/fr-fr/searchlist.php?map=1&acces_direct=1&station_cle=304&etendre_min=30&trier_par=zerank',\n",
       "   'nb_page': 1},\n",
       "  {'url': 'https://www.maeva.com/fr-fr/searchlist.php?map=1&acces_direct=1&station_cle=39&etendre_min=30&trier_par=zerank',\n",
       "   'nb_page': 1}],\n",
       " [{'url': 'https://www.maeva.com/fr-fr/searchlist.php?map=1&acces_direct=1&station_cle=297&etendre_min=30&trier_par=zerank',\n",
       "   'nb_page': 1},\n",
       "  {'url': 'https://www.maeva.com/fr-fr/searchlist.php?map=1&acces_direct=1&station_cle=29994&etendre_min=30&trier_par=zerank',\n",
       "   'nb_page': 1}],\n",
       " [{'url': 'https://www.maeva.com/fr-fr/searchlist.php?map=1&acces_direct=1&station_cle=109&etendre_min=30&trier_par=zerank',\n",
       "   'nb_page': 1},\n",
       "  {'url': 'https://www.maeva.com/fr-fr/searchlist.php?map=1&acces_direct=1&station_cle=304&etendre_min=30&trier_par=zerank',\n",
       "   'nb_page': 1}],\n",
       " [{'url': 'https://www.maeva.com/fr-fr/searchlist.php?map=1&acces_direct=1&station_cle=39&etendre_min=30&trier_par=zerank',\n",
       "   'nb_page': 1},\n",
       "  {'url': 'https://www.maeva.com/fr-fr/searchlist.php?map=1&acces_direct=1&station_cle=297&etendre_min=30&trier_par=zerank',\n",
       "   'nb_page': 1}]]"
      ]
     },
     "execution_count": 3,
     "metadata": {},
     "output_type": "execute_result"
    }
   ],
   "source": [
    "split_data(data, 2)"
   ]
  },
  {
   "cell_type": "code",
   "execution_count": 1,
   "metadata": {},
   "outputs": [],
   "source": [
    "from botasaurus.browser import Driver, browser, Wait\n"
   ]
  },
  {
   "cell_type": "code",
   "execution_count": 3,
   "metadata": {},
   "outputs": [],
   "source": [
    "driver = Driver()\n",
    "\n",
    "url = \"https://www.maeva.com/fr-fr/pages/fiche.php?id=773894&date_debut=2025-03-08&date_fin=2025-03-14\"\n",
    "\n",
    "try:\n",
    "    driver.get(url)\n",
    "except:\n",
    "    driver.reload()"
   ]
  },
  {
   "cell_type": "code",
   "execution_count": 9,
   "metadata": {},
   "outputs": [],
   "source": [
    "soupe = driver.page_html"
   ]
  },
  {
   "cell_type": "code",
   "execution_count": null,
   "metadata": {},
   "outputs": [],
   "source": [
    "selectors = {\n",
    "                    \"by_tag_only\": False,\n",
    "                    \"tag\": \"h1\",\n",
    "                    \"attr_key\": \"id\",\n",
    "                    \"attr_value\": \"fiche-produit-residence-libelle\",\n",
    "                    \"target\": \"text\",\n",
    "                    \"child\": {\n",
    "                        \"by_tag_only\": True,\n",
    "                        \"tag\": \"a\",\n",
    "                        \"target\": \"attribute\",\n",
    "                        \"value_attr\": \"href\"\n",
    "                    }\n",
    "                }"
   ]
  },
  {
   "cell_type": "code",
   "execution_count": 7,
   "metadata": {},
   "outputs": [],
   "source": [
    "import toolkits.bs4_extension as bs4_ex"
   ]
  },
  {
   "cell_type": "code",
   "execution_count": 11,
   "metadata": {},
   "outputs": [
    {
     "name": "stdout",
     "output_type": "stream",
     "text": [
      "extracting element by locator {'by_tag_only': False, 'tag': 'h1', 'attr_key': 'id', 'attr_value': 'fiche-produit-residence-libelle', 'target': 'child', 'child': {'by_tag_only': True, 'tag': 'a', 'target': 'attribute', 'value_attr': 'href'}}\n",
      "27:01:2025 - 15:47:49 - [INFO] - \u001b[32mgetting element by locator\n"
     ]
    },
    {
     "ename": "TypeError",
     "evalue": "slice indices must be integers or None or have an __index__ method",
     "output_type": "error",
     "traceback": [
      "\u001b[0;31m---------------------------------------------------------------------------\u001b[0m",
      "\u001b[0;31mTypeError\u001b[0m                                 Traceback (most recent call last)",
      "Cell \u001b[0;32mIn[11], line 1\u001b[0m\n\u001b[0;32m----> 1\u001b[0m \u001b[43mbs4_ex\u001b[49m\u001b[38;5;241;43m.\u001b[39;49m\u001b[43mextract_element_by_locator\u001b[49m\u001b[43m(\u001b[49m\u001b[43msoupe\u001b[49m\u001b[43m,\u001b[49m\u001b[43m \u001b[49m\u001b[43mselectors\u001b[49m\u001b[43m)\u001b[49m\n",
      "File \u001b[0;32m~/Documents/Jobdev/Jobdev/programs/dev/pricing/pricing/toolkits/bs4_extension/__init__.py:110\u001b[0m, in \u001b[0;36mextract_element_by_locator\u001b[0;34m(element, locator)\u001b[0m\n\u001b[1;32m    108\u001b[0m     element_value \u001b[38;5;241m=\u001b[39m elements[locator\u001b[38;5;241m.\u001b[39mget(\u001b[38;5;124m'\u001b[39m\u001b[38;5;124mindex\u001b[39m\u001b[38;5;124m'\u001b[39m)]\n\u001b[1;32m    109\u001b[0m \u001b[38;5;28;01melse\u001b[39;00m:\n\u001b[0;32m--> 110\u001b[0m     element_value \u001b[38;5;241m=\u001b[39m \u001b[43mget_element_by_locator\u001b[49m\u001b[43m(\u001b[49m\u001b[43melement\u001b[49m\u001b[43m,\u001b[49m\u001b[43m \u001b[49m\u001b[43mlocator\u001b[49m\u001b[43m)\u001b[49m\n\u001b[1;32m    112\u001b[0m \u001b[38;5;28;01mif\u001b[39;00m element_value:\n\u001b[1;32m    113\u001b[0m     \u001b[38;5;28;01mmatch\u001b[39;00m locator[\u001b[38;5;124m'\u001b[39m\u001b[38;5;124mtarget\u001b[39m\u001b[38;5;124m'\u001b[39m]:\n",
      "File \u001b[0;32m~/Documents/Jobdev/Jobdev/programs/dev/pricing/pricing/toolkits/bs4_extension/__init__.py:62\u001b[0m, in \u001b[0;36mget_element_by_locator\u001b[0;34m(element, locator)\u001b[0m\n\u001b[1;32m     60\u001b[0m     \u001b[38;5;28;01mreturn\u001b[39;00m element_found\n\u001b[1;32m     61\u001b[0m \u001b[38;5;28;01melse\u001b[39;00m:\n\u001b[0;32m---> 62\u001b[0m     element_found \u001b[38;5;241m=\u001b[39m \u001b[43melement\u001b[49m\u001b[38;5;241;43m.\u001b[39;49m\u001b[43mfind\u001b[49m\u001b[43m(\u001b[49m\u001b[43mlocator\u001b[49m\u001b[43m[\u001b[49m\u001b[38;5;124;43m'\u001b[39;49m\u001b[38;5;124;43mtag\u001b[39;49m\u001b[38;5;124;43m'\u001b[39;49m\u001b[43m]\u001b[49m\u001b[43m,\u001b[49m\u001b[43m \u001b[49m\u001b[43m{\u001b[49m\u001b[43mlocator\u001b[49m\u001b[43m[\u001b[49m\u001b[38;5;124;43m'\u001b[39;49m\u001b[38;5;124;43mattr_key\u001b[39;49m\u001b[38;5;124;43m'\u001b[39;49m\u001b[43m]\u001b[49m\u001b[43m:\u001b[49m\u001b[43mlocator\u001b[49m\u001b[43m[\u001b[49m\u001b[38;5;124;43m'\u001b[39;49m\u001b[38;5;124;43mattr_value\u001b[39;49m\u001b[38;5;124;43m'\u001b[39;49m\u001b[43m]\u001b[49m\u001b[43m}\u001b[49m\u001b[43m)\u001b[49m\n\u001b[1;32m     63\u001b[0m     \u001b[38;5;28;01mreturn\u001b[39;00m element_found\n",
      "\u001b[0;31mTypeError\u001b[0m: slice indices must be integers or None or have an __index__ method"
     ]
    }
   ],
   "source": [
    "bs4_ex.extract_element_by_locator(soupe, selectors)"
   ]
  }
 ],
 "metadata": {
  "kernelspec": {
   "display_name": "Python 3",
   "language": "python",
   "name": "python3"
  },
  "language_info": {
   "codemirror_mode": {
    "name": "ipython",
    "version": 3
   },
   "file_extension": ".py",
   "mimetype": "text/x-python",
   "name": "python",
   "nbconvert_exporter": "python",
   "pygments_lexer": "ipython3",
   "version": "3.10.12"
  }
 },
 "nbformat": 4,
 "nbformat_minor": 2
}
