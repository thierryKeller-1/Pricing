{
 "cells": [
  {
   "cell_type": "code",
   "execution_count": 1,
   "metadata": {},
   "outputs": [],
   "source": [
    "data = [\n",
    "    {\n",
    "        \"url\": \"https://www.maeva.com/fr-fr/searchlist.php?map=1&acces_direct=1&station_cle=29994&etendre_min=30&trier_par=zerank\",\n",
    "        \"nb_page\": 1\n",
    "    },\n",
    "    {\n",
    "        \"url\": \"https://www.maeva.com/fr-fr/searchlist.php?map=1&acces_direct=1&station_cle=109&etendre_min=30&trier_par=zerank\",\n",
    "        \"nb_page\": 1\n",
    "    },\n",
    "    {\n",
    "        \"url\": \"https://www.maeva.com/fr-fr/searchlist.php?map=1&acces_direct=1&station_cle=304&etendre_min=30&trier_par=zerank\",\n",
    "        \"nb_page\": 1\n",
    "    },\n",
    "    {\n",
    "        \"url\": \"https://www.maeva.com/fr-fr/searchlist.php?map=1&acces_direct=1&station_cle=39&etendre_min=30&trier_par=zerank\",\n",
    "        \"nb_page\": 1\n",
    "    },\n",
    "    {\n",
    "        \"url\": \"https://www.maeva.com/fr-fr/searchlist.php?map=1&acces_direct=1&station_cle=297&etendre_min=30&trier_par=zerank\",\n",
    "        \"nb_page\": 1\n",
    "    },\n",
    "        {\n",
    "        \"url\": \"https://www.maeva.com/fr-fr/searchlist.php?map=1&acces_direct=1&station_cle=29994&etendre_min=30&trier_par=zerank\",\n",
    "        \"nb_page\": 1\n",
    "    },\n",
    "    {\n",
    "        \"url\": \"https://www.maeva.com/fr-fr/searchlist.php?map=1&acces_direct=1&station_cle=109&etendre_min=30&trier_par=zerank\",\n",
    "        \"nb_page\": 1\n",
    "    },\n",
    "    {\n",
    "        \"url\": \"https://www.maeva.com/fr-fr/searchlist.php?map=1&acces_direct=1&station_cle=304&etendre_min=30&trier_par=zerank\",\n",
    "        \"nb_page\": 1\n",
    "    },\n",
    "    {\n",
    "        \"url\": \"https://www.maeva.com/fr-fr/searchlist.php?map=1&acces_direct=1&station_cle=39&etendre_min=30&trier_par=zerank\",\n",
    "        \"nb_page\": 1\n",
    "    },\n",
    "    {\n",
    "        \"url\": \"https://www.maeva.com/fr-fr/searchlist.php?map=1&acces_direct=1&station_cle=297&etendre_min=30&trier_par=zerank\",\n",
    "        \"nb_page\": 1\n",
    "    }\n",
    "    ]"
   ]
  },
  {
   "cell_type": "code",
   "execution_count": 2,
   "metadata": {},
   "outputs": [],
   "source": [
    "def split_data(data_to_split:list, by:int) -> list:\n",
    "            \"\"\"## split a large of list of data in to small list \n",
    "\n",
    "            ### Args:\n",
    "                - `data_to_split (list)`: list of big data to b\n",
    "                - `by (int)`: number of peace of list\n",
    "\n",
    "            ### Returns:\n",
    "                - `list`: list contains splitted list of data\n",
    "            \"\"\"\n",
    "            return [data_to_split[i:i + by] for i in range(0, len(data_to_split), by)]\n",
    "        "
   ]
  },
  {
   "cell_type": "code",
   "execution_count": 3,
   "metadata": {},
   "outputs": [
    {
     "data": {
      "text/plain": [
       "[[{'url': 'https://www.maeva.com/fr-fr/searchlist.php?map=1&acces_direct=1&station_cle=29994&etendre_min=30&trier_par=zerank',\n",
       "   'nb_page': 1},\n",
       "  {'url': 'https://www.maeva.com/fr-fr/searchlist.php?map=1&acces_direct=1&station_cle=109&etendre_min=30&trier_par=zerank',\n",
       "   'nb_page': 1}],\n",
       " [{'url': 'https://www.maeva.com/fr-fr/searchlist.php?map=1&acces_direct=1&station_cle=304&etendre_min=30&trier_par=zerank',\n",
       "   'nb_page': 1},\n",
       "  {'url': 'https://www.maeva.com/fr-fr/searchlist.php?map=1&acces_direct=1&station_cle=39&etendre_min=30&trier_par=zerank',\n",
       "   'nb_page': 1}],\n",
       " [{'url': 'https://www.maeva.com/fr-fr/searchlist.php?map=1&acces_direct=1&station_cle=297&etendre_min=30&trier_par=zerank',\n",
       "   'nb_page': 1},\n",
       "  {'url': 'https://www.maeva.com/fr-fr/searchlist.php?map=1&acces_direct=1&station_cle=29994&etendre_min=30&trier_par=zerank',\n",
       "   'nb_page': 1}],\n",
       " [{'url': 'https://www.maeva.com/fr-fr/searchlist.php?map=1&acces_direct=1&station_cle=109&etendre_min=30&trier_par=zerank',\n",
       "   'nb_page': 1},\n",
       "  {'url': 'https://www.maeva.com/fr-fr/searchlist.php?map=1&acces_direct=1&station_cle=304&etendre_min=30&trier_par=zerank',\n",
       "   'nb_page': 1}],\n",
       " [{'url': 'https://www.maeva.com/fr-fr/searchlist.php?map=1&acces_direct=1&station_cle=39&etendre_min=30&trier_par=zerank',\n",
       "   'nb_page': 1},\n",
       "  {'url': 'https://www.maeva.com/fr-fr/searchlist.php?map=1&acces_direct=1&station_cle=297&etendre_min=30&trier_par=zerank',\n",
       "   'nb_page': 1}]]"
      ]
     },
     "execution_count": 3,
     "metadata": {},
     "output_type": "execute_result"
    }
   ],
   "source": [
    "split_data(data, 2)"
   ]
  },
  {
   "cell_type": "code",
   "execution_count": 1,
   "metadata": {},
   "outputs": [],
   "source": [
    "from botasaurus.browser import Driver, browser, Wait\n"
   ]
  },
  {
   "cell_type": "code",
   "execution_count": 3,
   "metadata": {},
   "outputs": [],
   "source": [
    "driver = Driver()\n",
    "\n",
    "url = \"https://www.maeva.com/fr-fr/pages/fiche.php?id=773894&date_debut=2025-03-08&date_fin=2025-03-14\"\n",
    "\n",
    "try:\n",
    "    driver.get(url)\n",
    "except:\n",
    "    driver.reload()"
   ]
  },
  {
   "cell_type": "code",
   "execution_count": 9,
   "metadata": {},
   "outputs": [],
   "source": [
    "soupe = driver.page_html"
   ]
  },
  {
   "cell_type": "code",
   "execution_count": null,
   "metadata": {},
   "outputs": [],
   "source": [
    "selectors = {\n",
    "                    \"by_tag_only\": False,\n",
    "                    \"tag\": \"h1\",\n",
    "                    \"attr_key\": \"id\",\n",
    "                    \"attr_value\": \"fiche-produit-residence-libelle\",\n",
    "                    \"target\": \"text\",\n",
    "                    \"child\": {\n",
    "                        \"by_tag_only\": True,\n",
    "                        \"tag\": \"a\",\n",
    "                        \"target\": \"attribute\",\n",
    "                        \"value_attr\": \"href\"\n",
    "                    }\n",
    "                }"
   ]
  },
  {
   "cell_type": "code",
   "execution_count": 7,
   "metadata": {},
   "outputs": [],
   "source": [
    "import toolkits.bs4_extension as bs4_ex"
   ]
  },
  {
   "cell_type": "code",
   "execution_count": null,
   "metadata": {},
   "outputs": [],
   "source": [
    "bs4_ex.extract_element_by_locator(soupe, selectors)"
   ]
  }
 ],
 "metadata": {
  "kernelspec": {
   "display_name": "Python 3",
   "language": "python",
   "name": "python3"
  },
  "language_info": {
   "codemirror_mode": {
    "name": "ipython",
    "version": 3
   },
   "file_extension": ".py",
   "mimetype": "text/x-python",
   "name": "python",
   "nbconvert_exporter": "python",
   "pygments_lexer": "ipython3",
   "version": "3.10.12"
  }
 },
 "nbformat": 4,
 "nbformat_minor": 2
}
