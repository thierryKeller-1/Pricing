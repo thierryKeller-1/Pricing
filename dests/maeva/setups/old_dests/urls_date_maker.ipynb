{
 "cells": [
  {
   "cell_type": "code",
   "execution_count": 1,
   "metadata": {},
   "outputs": [],
   "source": [
    "import json \n",
    "import os\n",
    "import pandas as pd \n",
    "from datetime import datetime, timedelta\n",
    "from pathlib import Path"
   ]
  },
  {
   "cell_type": "code",
   "execution_count": 2,
   "metadata": {},
   "outputs": [],
   "source": [
    "\n",
    "def split_data(data_to_split:list, by:int) -> list:\n",
    "    return [data_to_split[i:i + by] for i in range(0, len(data_to_split), by)]"
   ]
  },
  {
   "cell_type": "code",
   "execution_count": 3,
   "metadata": {},
   "outputs": [],
   "source": [
    "def get_json_file_content(json_file_path:str, key:str=None) -> object:\n",
    "    \"\"\"get json file content\n",
    "    Args:\n",
    "        json_file_path (str): json file path\n",
    "    Returns:\n",
    "        object: json file content\n",
    "    \"\"\"\n",
    "    if Path(json_file_path).exists():\n",
    "        with open(json_file_path, 'r') as openfile:\n",
    "            file_content = json.load(openfile)\n",
    "            if file_content and key:\n",
    "                try:\n",
    "                    return file_content.get(key)\n",
    "                except KeyError as e:\n",
    "                    print('error',f\"{e}\")\n",
    "            return file_content\n",
    "    print('error', 'file does not found')"
   ]
  },
  {
   "cell_type": "code",
   "execution_count": 4,
   "metadata": {},
   "outputs": [],
   "source": [
    "def combine_file_content(file_path:str, file_type:str) -> list:\n",
    "    match file_type:\n",
    "        case 'json':\n",
    "            files = os.listdir(file_path)\n",
    "            files = list(filter(lambda f: f.endswith('.json'), files))\n",
    "            print(files)\n",
    "            files = [f\"{file_path + x}\" for x in files]\n",
    "            file_contents = []\n",
    "            for file in files:\n",
    "                print(file)\n",
    "                file_content = get_json_file_content(f\"{file}\")\n",
    "                file_contents += file_content\n",
    "            return file_contents\n",
    "        case 'csv':\n",
    "            pass"
   ]
  },
  {
   "cell_type": "code",
   "execution_count": 5,
   "metadata": {},
   "outputs": [],
   "source": [
    "def get_saturdays(start_date, end_date):\n",
    "    saturdays = pd.bdate_range(start=start_date, end=end_date, freq='C', weekmask='Sat').strftime('%Y-%m-%d').tolist()\n",
    "    return saturdays"
   ]
  },
  {
   "cell_type": "code",
   "execution_count": 6,
   "metadata": {},
   "outputs": [],
   "source": [
    "def normalize_urls(urls, dates:list) -> list:\n",
    "    updated_urls = []\n",
    "    for date in dates:\n",
    "        start_date = date \n",
    "        end_date = (datetime.strptime(date, '%Y-%m-%d') + timedelta(days=6)).strftime('%Y-%m-%d')\n",
    "        for url in urls:\n",
    "            if '.php' in url:\n",
    "                updated_url = f\"{url}&date_debut={start_date}&date_fin={end_date}\"\n",
    "            else:\n",
    "                residence_cle = url.split('_')[-1].split('.')[0]\n",
    "                updated_url = f\"{url}?date_debut={start_date}&date_fin={end_date}&residence_cle={residence_cle}\"\n",
    "            updated_urls.append(updated_url)\n",
    "    return updated_urls"
   ]
  },
  {
   "cell_type": "code",
   "execution_count": 7,
   "metadata": {},
   "outputs": [
    {
     "name": "stdout",
     "output_type": "stream",
     "text": [
      "['all_station.json', 'dest2.json', 'all_station_1.json', 'dest3.json', 'dest11.json', 'dest1.json', 'new_dest1.json', 'all_station_2 copy.json', 'all_station_4.json', 'new_dest5.json', 'dest8.json', 'dest7.json', 'new_dest6.json', 'dest10.json', 'all_station_3.json', 'all_station_1_2.json', 'all_station_2_2.json', 'dest9.json', 'dest12.json', 'new_dest2.json', 'dest5.json', 'all_station_3_2.json', 'dest4.json', 'new_dest3.json', 'all_station_2.json', 'all_station_4_2.json', 'dest6.json', 'new_dest4.json']\n",
      "/home/keller/Documents/Jobdev/G2A/Pricing/dests/maeva/setups/old_dests/all_station.json\n",
      "/home/keller/Documents/Jobdev/G2A/Pricing/dests/maeva/setups/old_dests/dest2.json\n",
      "/home/keller/Documents/Jobdev/G2A/Pricing/dests/maeva/setups/old_dests/all_station_1.json\n",
      "/home/keller/Documents/Jobdev/G2A/Pricing/dests/maeva/setups/old_dests/dest3.json\n",
      "/home/keller/Documents/Jobdev/G2A/Pricing/dests/maeva/setups/old_dests/dest11.json\n",
      "/home/keller/Documents/Jobdev/G2A/Pricing/dests/maeva/setups/old_dests/dest1.json\n",
      "/home/keller/Documents/Jobdev/G2A/Pricing/dests/maeva/setups/old_dests/new_dest1.json\n",
      "/home/keller/Documents/Jobdev/G2A/Pricing/dests/maeva/setups/old_dests/all_station_2 copy.json\n",
      "/home/keller/Documents/Jobdev/G2A/Pricing/dests/maeva/setups/old_dests/all_station_4.json\n",
      "/home/keller/Documents/Jobdev/G2A/Pricing/dests/maeva/setups/old_dests/new_dest5.json\n",
      "/home/keller/Documents/Jobdev/G2A/Pricing/dests/maeva/setups/old_dests/dest8.json\n",
      "/home/keller/Documents/Jobdev/G2A/Pricing/dests/maeva/setups/old_dests/dest7.json\n",
      "/home/keller/Documents/Jobdev/G2A/Pricing/dests/maeva/setups/old_dests/new_dest6.json\n",
      "/home/keller/Documents/Jobdev/G2A/Pricing/dests/maeva/setups/old_dests/dest10.json\n",
      "/home/keller/Documents/Jobdev/G2A/Pricing/dests/maeva/setups/old_dests/all_station_3.json\n",
      "/home/keller/Documents/Jobdev/G2A/Pricing/dests/maeva/setups/old_dests/all_station_1_2.json\n",
      "/home/keller/Documents/Jobdev/G2A/Pricing/dests/maeva/setups/old_dests/all_station_2_2.json\n",
      "/home/keller/Documents/Jobdev/G2A/Pricing/dests/maeva/setups/old_dests/dest9.json\n",
      "/home/keller/Documents/Jobdev/G2A/Pricing/dests/maeva/setups/old_dests/dest12.json\n",
      "/home/keller/Documents/Jobdev/G2A/Pricing/dests/maeva/setups/old_dests/new_dest2.json\n",
      "/home/keller/Documents/Jobdev/G2A/Pricing/dests/maeva/setups/old_dests/dest5.json\n",
      "/home/keller/Documents/Jobdev/G2A/Pricing/dests/maeva/setups/old_dests/all_station_3_2.json\n",
      "/home/keller/Documents/Jobdev/G2A/Pricing/dests/maeva/setups/old_dests/dest4.json\n",
      "/home/keller/Documents/Jobdev/G2A/Pricing/dests/maeva/setups/old_dests/new_dest3.json\n",
      "/home/keller/Documents/Jobdev/G2A/Pricing/dests/maeva/setups/old_dests/all_station_2.json\n",
      "/home/keller/Documents/Jobdev/G2A/Pricing/dests/maeva/setups/old_dests/all_station_4_2.json\n",
      "/home/keller/Documents/Jobdev/G2A/Pricing/dests/maeva/setups/old_dests/dest6.json\n",
      "/home/keller/Documents/Jobdev/G2A/Pricing/dests/maeva/setups/old_dests/new_dest4.json\n"
     ]
    }
   ],
   "source": [
    "file_contents = combine_file_content(\"/home/keller/Documents/Jobdev/G2A/Pricing/dests/maeva/setups/old_dests/\", 'json')"
   ]
  },
  {
   "cell_type": "code",
   "execution_count": 8,
   "metadata": {},
   "outputs": [
    {
     "data": {
      "text/plain": [
       "101399"
      ]
     },
     "execution_count": 8,
     "metadata": {},
     "output_type": "execute_result"
    }
   ],
   "source": [
    "len(file_contents)"
   ]
  },
  {
   "cell_type": "code",
   "execution_count": 9,
   "metadata": {},
   "outputs": [],
   "source": [
    "normal_urls = []\n",
    "diff_urls = []\n",
    "\n",
    "for content in file_contents:\n",
    "    if 'php' in content:\n",
    "        diff_urls.append(content)\n",
    "    else:\n",
    "        normal_urls.append(content)"
   ]
  },
  {
   "cell_type": "code",
   "execution_count": 10,
   "metadata": {},
   "outputs": [
    {
     "name": "stdout",
     "output_type": "stream",
     "text": [
      "45843\n",
      "55556\n"
     ]
    }
   ],
   "source": [
    "print(len(normal_urls))\n",
    "print(len(diff_urls))"
   ]
  },
  {
   "cell_type": "code",
   "execution_count": 11,
   "metadata": {},
   "outputs": [],
   "source": [
    "with open(\"./../new_urls/all_normal_urls.json\", \"w\") as file:\n",
    "    json.dump(normal_urls, file)\n",
    "\n",
    "with open(\"./../new_urls/all_diff_urls.json\", \"w\") as file:\n",
    "    json.dump(diff_urls, file)"
   ]
  },
  {
   "cell_type": "code",
   "execution_count": null,
   "metadata": {},
   "outputs": [],
   "source": [
    "start_date = \"03/03/2025\"\n",
    "end_date = \"30/10/2025\"\n",
    "dest_folder_path = \"/home/keller/Documents/Jobdev/G2A/Pricing/dests/maeva/setups/old_dests/\"\n",
    "output_path = \"/home/keller/Documents/Jobdev/G2A/demo/\"\n",
    "name = \"dest\"\n",
    "devided_by = 18"
   ]
  },
  {
   "cell_type": "code",
   "execution_count": 184,
   "metadata": {},
   "outputs": [],
   "source": [
    "dest_data = combine_file_content(dest_folder_path, 'json')"
   ]
  },
  {
   "cell_type": "code",
   "execution_count": 196,
   "metadata": {},
   "outputs": [
    {
     "data": {
      "text/plain": [
       "8695"
      ]
     },
     "execution_count": 196,
     "metadata": {},
     "output_type": "execute_result"
    }
   ],
   "source": [
    "len(dest_data)"
   ]
  },
  {
   "cell_type": "code",
   "execution_count": 186,
   "metadata": {},
   "outputs": [],
   "source": [
    "cleaned_urls = []\n",
    "\n",
    "for url in dest_data:\n",
    "    if '.php' in url:\n",
    "        cleaned_urls.append(url.split('&')[0])\n",
    "    else:\n",
    "        cleaned_urls.append(url.split('?')[0])"
   ]
  },
  {
   "cell_type": "code",
   "execution_count": 187,
   "metadata": {},
   "outputs": [
    {
     "name": "stdout",
     "output_type": "stream",
     "text": [
      "8695\n",
      "6560\n"
     ]
    }
   ],
   "source": [
    "print(len(cleaned_urls))\n",
    "cleaned_urls = list(set(cleaned_urls))\n",
    "print(len(cleaned_urls))"
   ]
  },
  {
   "cell_type": "code",
   "execution_count": 188,
   "metadata": {},
   "outputs": [
    {
     "name": "stdout",
     "output_type": "stream",
     "text": [
      "['2025-02-22', '2025-03-01', '2025-03-08', '2025-03-15', '2025-03-22', '2025-03-29', '2025-04-05', '2025-04-12', '2025-04-19', '2025-04-26', '2025-05-03', '2025-05-10', '2025-05-17', '2025-05-24', '2025-05-31', '2025-06-07', '2025-06-14', '2025-06-21', '2025-06-28', '2025-07-05', '2025-07-12', '2025-07-19', '2025-07-26', '2025-08-02', '2025-08-09', '2025-08-16', '2025-08-23', '2025-08-30', '2025-09-06', '2025-09-13', '2025-09-20', '2025-09-27', '2025-10-04', '2025-10-11', '2025-10-18', '2025-10-25']\n"
     ]
    }
   ],
   "source": [
    "saturdays = get_saturdays(start_date, end_date)\n",
    "print(saturdays)"
   ]
  },
  {
   "cell_type": "code",
   "execution_count": 204,
   "metadata": {},
   "outputs": [
    {
     "data": {
      "text/plain": [
       "364"
      ]
     },
     "execution_count": 204,
     "metadata": {},
     "output_type": "execute_result"
    }
   ],
   "source": [
    "number_data_per_file = len(cleaned_urls) // devided_by"
   ]
  },
  {
   "cell_type": "code",
   "execution_count": null,
   "metadata": {},
   "outputs": [],
   "source": [
    "splited_datas = split_data(cleaned_urls, number_data_per_file)\n",
    "splited_datas"
   ]
  },
  {
   "cell_type": "code",
   "execution_count": null,
   "metadata": {},
   "outputs": [],
   "source": [
    "new_splited_datas = [normalize_urls(data, saturdays) for data in splited_datas]"
   ]
  },
  {
   "cell_type": "code",
   "execution_count": null,
   "metadata": {},
   "outputs": [],
   "source": [
    "for i in range(len(new_splited_datas)):\n",
    "    with open(f\"{output_path}{name}_{i+1}.json\", 'w') as outfile:\n",
    "        json.dump(new_splited_datas[i], outfile)"
   ]
  },
  {
   "cell_type": "markdown",
   "metadata": {},
   "source": [
    "last changed"
   ]
  }
 ],
 "metadata": {
  "kernelspec": {
   "display_name": ".venv",
   "language": "python",
   "name": "python3"
  },
  "language_info": {
   "codemirror_mode": {
    "name": "ipython",
    "version": 3
   },
   "file_extension": ".py",
   "mimetype": "text/x-python",
   "name": "python",
   "nbconvert_exporter": "python",
   "pygments_lexer": "ipython3",
   "version": "3.12.3"
  }
 },
 "nbformat": 4,
 "nbformat_minor": 2
}
