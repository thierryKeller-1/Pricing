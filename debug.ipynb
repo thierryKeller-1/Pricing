{
 "cells": [
  {
   "cell_type": "code",
   "execution_count": 1,
   "metadata": {},
   "outputs": [],
   "source": [
    "from bs4 import BeautifulSoup"
   ]
  },
  {
   "cell_type": "code",
   "execution_count": 2,
   "metadata": {},
   "outputs": [],
   "source": [
    "html = \"\"\"<nav aria-label=\"Fil d'Ariane\" id=\"ui-ariane\" itemscope=\"\" itemtype=\"https://schema.org/BreadcrumbList\"><div itemprop=\"itemListElement\" itemscope=\"\" itemtype=\"https://schema.org/ListItem\"><a itemprop=\"item\" class=\"ariane-item\" href=\"https://www.maeva.com/fr-fr/\"><span itemprop=\"name\">Accueil</span></a><meta itemprop=\"position\" content=\"1\"></div><div itemprop=\"itemListElement\" itemscope=\"\" itemtype=\"https://schema.org/ListItem\"><a itemprop=\"item\" class=\"ariane-item\" href=\"https://www.maeva.com/fr-fr/france/nos-locations-de-vacances.html\"><span itemprop=\"name\">France</span></a><meta itemprop=\"position\" content=\"2\"></div><div itemprop=\"itemListElement\" itemscope=\"\" itemtype=\"https://schema.org/ListItem\"><a itemprop=\"item\" class=\"ariane-item\" href=\"https://www.maeva.com/fr-fr/nos-locations-region-rhone-alpes-1022.html\"><span itemprop=\"name\">Rhône-Alpes</span></a><meta itemprop=\"position\" content=\"3\"></div><div itemprop=\"itemListElement\" itemscope=\"\" itemtype=\"https://schema.org/ListItem\"><a itemprop=\"item\" class=\"ariane-item\" href=\"https://www.maeva.com/fr-fr/location-savoie-73.html\"><span itemprop=\"name\">Savoie</span></a><meta itemprop=\"position\" content=\"4\"></div><div itemprop=\"itemListElement\" itemscope=\"\" itemtype=\"https://schema.org/ListItem\"><a itemprop=\"item\" class=\"ariane-item\" href=\"https://www.maeva.com/fr-fr/location-valmorel,109.html\"><span itemprop=\"name\">Valmorel</span></a><meta itemprop=\"position\" content=\"5\"></div><div itemprop=\"itemListElement\" itemscope=\"\" itemtype=\"https://schema.org/ListItem\"><span class=\"ariane-item-actif\"><span itemprop=\"name\">Quartier Crève Cœur - maeva Home</span></span><meta itemprop=\"position\" content=\"6\"></div></nav>\"\"\""
   ]
  },
  {
   "cell_type": "code",
   "execution_count": 3,
   "metadata": {},
   "outputs": [],
   "source": [
    "bread = BeautifulSoup(html, \"lxml\")"
   ]
  },
  {
   "cell_type": "code",
   "execution_count": 4,
   "metadata": {},
   "outputs": [],
   "source": [
    "try:\n",
    "    breadcrumbs = bread.find(\n",
    "        'ol', {'id': 'ui-ariane'}).find_all('li', {'itemprop': 'itemListElement'})\n",
    "except:\n",
    "    breadcrumbs = bread.find(\n",
    "        'nav', {'id': 'ui-ariane'}).find_all('div', {'itemprop': 'itemListElement'})\n",
    "\n",
    "station_breadcrumb = breadcrumbs[-2:-1][0].find('a', class_='ariane-item') if breadcrumbs[-2:-1][0].find('a', class_='ariane-item') else ''\n",
    "station_key = station_breadcrumb['href'].split(',')[1].replace('.html', '') if station_breadcrumb != '' else ''\n"
   ]
  },
  {
   "cell_type": "code",
   "execution_count": 6,
   "metadata": {},
   "outputs": [
    {
     "data": {
      "text/plain": [
       "'109'"
      ]
     },
     "execution_count": 6,
     "metadata": {},
     "output_type": "execute_result"
    }
   ],
   "source": [
    "station_key"
   ]
  },
  {
   "cell_type": "code",
   "execution_count": 3,
   "metadata": {},
   "outputs": [],
   "source": [
    "x = [i for i in range(1,10)]"
   ]
  },
  {
   "cell_type": "code",
   "execution_count": 4,
   "metadata": {},
   "outputs": [
    {
     "data": {
      "text/plain": [
       "[1, 2, 3, 4, 5, 6, 7, 8, 9]"
      ]
     },
     "execution_count": 4,
     "metadata": {},
     "output_type": "execute_result"
    }
   ],
   "source": [
    "x"
   ]
  },
  {
   "cell_type": "code",
   "execution_count": 5,
   "metadata": {},
   "outputs": [
    {
     "name": "stdout",
     "output_type": "stream",
     "text": [
      "[1, 2]\n",
      "[3, 4]\n",
      "[5, 6]\n",
      "[7, 8]\n",
      "[9]\n"
     ]
    }
   ],
   "source": [
    "for i in range(0,len(x), 2):\n",
    "    if i > len(x):\n",
    "        break\n",
    "    print(x[i:i+2])"
   ]
  },
  {
   "cell_type": "code",
   "execution_count": 19,
   "metadata": {},
   "outputs": [],
   "source": [
    "def get_item_from_index(object_list:list, index:int, by:int=1) -> list:\n",
    "    return object_list[index : index + by]"
   ]
  },
  {
   "cell_type": "code",
   "execution_count": 32,
   "metadata": {},
   "outputs": [
    {
     "data": {
      "text/plain": [
       "[]"
      ]
     },
     "execution_count": 32,
     "metadata": {},
     "output_type": "execute_result"
    }
   ],
   "source": [
    "get_item_from_index(x, 9, 2)"
   ]
  },
  {
   "cell_type": "code",
   "execution_count": 17,
   "metadata": {},
   "outputs": [],
   "source": [
    "k = 1"
   ]
  },
  {
   "cell_type": "code",
   "execution_count": 18,
   "metadata": {},
   "outputs": [
    {
     "data": {
      "text/plain": [
       "[2, 3]"
      ]
     },
     "execution_count": 18,
     "metadata": {},
     "output_type": "execute_result"
    }
   ],
   "source": [
    "x[k : k + 2]"
   ]
  },
  {
   "cell_type": "code",
   "execution_count": 33,
   "metadata": {},
   "outputs": [
    {
     "data": {
      "text/plain": [
       "{'test': 2}"
      ]
     },
     "execution_count": 33,
     "metadata": {},
     "output_type": "execute_result"
    }
   ],
   "source": [
    "x = {}\n",
    "x['test'] = 1\n",
    "x['test'] = x['test'] + 1\n",
    "x"
   ]
  },
  {
   "cell_type": "code",
   "execution_count": 2,
   "metadata": {},
   "outputs": [
    {
     "data": {
      "text/plain": [
       "'Avr'"
      ]
     },
     "execution_count": 2,
     "metadata": {},
     "output_type": "execute_result"
    }
   ],
   "source": [
    "text = \"04 Avril\"\n",
    "text.split(' ')[1][:3]"
   ]
  }
 ],
 "metadata": {
  "kernelspec": {
   "display_name": "base",
   "language": "python",
   "name": "python3"
  },
  "language_info": {
   "codemirror_mode": {
    "name": "ipython",
    "version": 3
   },
   "file_extension": ".py",
   "mimetype": "text/x-python",
   "name": "python",
   "nbconvert_exporter": "python",
   "pygments_lexer": "ipython3",
   "version": "3.12.7"
  }
 },
 "nbformat": 4,
 "nbformat_minor": 2
}
